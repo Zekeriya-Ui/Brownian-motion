{
  "nbformat": 4,
  "nbformat_minor": 0,
  "metadata": {
    "colab": {
      "provenance": [],
      "authorship_tag": "ABX9TyOBgoq9rGwReIx+vPyuZH4/",
      "include_colab_link": true
    },
    "kernelspec": {
      "name": "python3",
      "display_name": "Python 3"
    },
    "language_info": {
      "name": "python"
    }
  },
  "cells": [
    {
      "cell_type": "markdown",
      "metadata": {
        "id": "view-in-github",
        "colab_type": "text"
      },
      "source": [
        "<a href=\"https://colab.research.google.com/github/Zekeriya-Ui/Brownian-motion/blob/main/MSCFE__Derivative_pricing_Question_13.ipynb\" target=\"_parent\"><img src=\"https://colab.research.google.com/assets/colab-badge.svg\" alt=\"Open In Colab\"/></a>"
      ]
    },
    {
      "cell_type": "markdown",
      "source": [
        "**Question 13**"
      ],
      "metadata": {
        "id": "jHIot3gG8GtI"
      }
    },
    {
      "cell_type": "code",
      "source": [
        "S0 = 80\n",
        "r = 0.055\n",
        "sigma = 0.35\n",
        "T = 3/12"
      ],
      "metadata": {
        "id": "-L6hrCsz8F5U"
      },
      "execution_count": 5,
      "outputs": []
    },
    {
      "cell_type": "markdown",
      "metadata": {
        "id": "5e58250a"
      },
      "source": [
        "# Task\n",
        "Calculate the price of an American call option using the Least-Squares Monte-Carlo (LSM) method under the Heston model with the following parameters: S0 = 80, r = 5.5%, sigma = 35%, Time to maturity = 3 months. The Heston model parameters are kappa = 1.5, theta = 0.04, xi = 0.2, rho = -0.5. Use 100000 paths and 100 time steps. Use polynomial basis functions of degree 3 for the regression."
      ]
    },
    {
      "cell_type": "markdown",
      "metadata": {
        "id": "7b15f5dd"
      },
      "source": [
        "## Simulate paths\n",
        "\n",
        "### Subtask:\n",
        "Generate a large number of stock price paths and corresponding variance paths using the Heston model.\n"
      ]
    },
    {
      "cell_type": "markdown",
      "metadata": {
        "id": "535bca7c"
      },
      "source": [
        "**Reasoning**:\n",
        "The first step is to import the necessary libraries and define the parameters for the Heston model and the simulation. I will also calculate the time step size and initialize arrays to store the simulation results.\n",
        "\n"
      ]
    },
    {
      "cell_type": "code",
      "metadata": {
        "id": "975d8138"
      },
      "source": [
        "import numpy as np\n",
        "from scipy.stats import norm\n",
        "\n",
        "# Heston model parameters (xi is not provided, using a common value)\n",
        "kappa = 1.5\n",
        "theta = 0.04\n",
        "xi = 0.2  # Volatility of volatility, using a common value\n",
        "rho = -0.5\n",
        "v0 = 0.04\n",
        "\n",
        "# Simulation parameters\n",
        "n_paths = 100000\n",
        "n_steps = 100\n",
        "T = 3/12\n",
        "S0 = 80\n",
        "r = 0.055\n",
        "strike_price = 100 # Added strike price for later use\n",
        "\n",
        "dt = T / n_steps\n",
        "\n",
        "# Initialize arrays to store paths\n",
        "stock_paths = np.zeros((n_paths, n_steps + 1))\n",
        "variance_paths = np.zeros((n_paths, n_steps + 1))\n",
        "\n",
        "# Set initial values\n",
        "stock_paths[:, 0] = S0\n",
        "variance_paths[:, 0] = v0\n",
        "\n",
        "# Generate correlated random numbers\n",
        "np.random.seed(42) # for reproducibility\n",
        "z1 = np.random.standard_normal((n_paths, n_steps))\n",
        "z2 = np.random.standard_normal((n_paths, n_steps))\n",
        "\n",
        "# Introduce correlation\n",
        "dw_v = z1 * np.sqrt(dt)\n",
        "dw_s = (rho * z1 + np.sqrt(1 - rho**2) * z2) * np.sqrt(dt)\n",
        "\n",
        "# Simulate paths using Euler-Maruyama\n",
        "for t in range(n_steps):\n",
        "    dv = kappa * (theta - variance_paths[:, t]) * dt + xi * np.sqrt(variance_paths[:, t]) * dw_v[:, t]\n",
        "    ds = r * stock_paths[:, t] * dt + np.sqrt(variance_paths[:, t]) * stock_paths[:, t] * dw_s[:, t]\n",
        "\n",
        "    variance_paths[:, t+1] = variance_paths[:, t] + dv\n",
        "    stock_paths[:, t+1] = stock_paths[:, t] + ds\n",
        "\n",
        "    # Ensure variance stays non-negative\n",
        "    variance_paths[:, t+1] = np.maximum(variance_paths[:, t+1], 0)\n"
      ],
      "execution_count": 6,
      "outputs": []
    },
    {
      "cell_type": "markdown",
      "metadata": {
        "id": "de2c01ee"
      },
      "source": [
        "## Backward induction initialization\n",
        "\n",
        "### Subtask:\n",
        "Initialize the option value at the last time step (T) as the intrinsic value for each path.\n"
      ]
    },
    {
      "cell_type": "markdown",
      "metadata": {
        "id": "cf7e624e"
      },
      "source": [
        "**Reasoning**:\n",
        "Calculate the intrinsic value at the last time step for each path and store it.\n",
        "\n"
      ]
    },
    {
      "cell_type": "code",
      "metadata": {
        "id": "be035209"
      },
      "source": [
        "american_option_price = np.maximum(stock_paths[:, -1] - strike_price, 0)"
      ],
      "execution_count": 7,
      "outputs": []
    },
    {
      "cell_type": "markdown",
      "metadata": {
        "id": "f38ea9fc"
      },
      "source": [
        "## Backward induction loop\n",
        "\n",
        "### Subtask:\n",
        "Iterate backward from time T-1 to time 0.\n"
      ]
    },
    {
      "cell_type": "markdown",
      "metadata": {
        "id": "7c21de00"
      },
      "source": [
        "**Reasoning**:\n",
        "Start a backward loop from time T-1 down to 0.\n",
        "\n"
      ]
    },
    {
      "cell_type": "code",
      "metadata": {
        "id": "c936c43e"
      },
      "source": [
        "for t in range(n_steps - 1, -1, -1):\n",
        "    # Code for the current time step will go here\n",
        "    pass"
      ],
      "execution_count": 8,
      "outputs": []
    },
    {
      "cell_type": "markdown",
      "metadata": {
        "id": "bf662a64"
      },
      "source": [
        "## Identify in-the-money paths\n",
        "\n",
        "### Subtask:\n",
        "At each time step, identify the paths where the option is in the money.\n"
      ]
    },
    {
      "cell_type": "markdown",
      "metadata": {
        "id": "66e5aaa1"
      },
      "source": [
        "**Reasoning**:\n",
        "Identify the paths where the option is in the money at the current time step.\n",
        "\n"
      ]
    },
    {
      "cell_type": "code",
      "metadata": {
        "id": "726d1c79"
      },
      "source": [
        "in_the_money_indices = np.where(stock_paths[:, t] > strike_price)[0]"
      ],
      "execution_count": 9,
      "outputs": []
    },
    {
      "cell_type": "markdown",
      "metadata": {
        "id": "269abaac"
      },
      "source": [
        "## Estimate continuation value\n",
        "\n",
        "### Subtask:\n",
        "For the in-the-money paths, regress the discounted future option values (from the next time step) against a set of basis functions of the stock price at the current time step to estimate the continuation value.\n"
      ]
    },
    {
      "cell_type": "markdown",
      "metadata": {
        "id": "50dcc1d4"
      },
      "source": [
        "**Reasoning**:\n",
        "Implement the steps to calculate the continuation value for in-the-money paths using linear regression with polynomial basis functions.\n",
        "\n"
      ]
    },
    {
      "cell_type": "code",
      "metadata": {
        "id": "da0489d7"
      },
      "source": [
        "from sklearn.linear_model import LinearRegression\n",
        "\n",
        "# Extract in-the-money stock prices and discounted future option values\n",
        "in_the_money_stock_prices = stock_paths[in_the_money_indices, t]\n",
        "discounted_future_option_values = american_option_price[in_the_money_indices] * np.exp(-r * dt)\n",
        "\n",
        "# Generate polynomial basis functions (degree 3)\n",
        "X = np.vstack([in_the_money_stock_prices, in_the_money_stock_prices**2, in_the_money_stock_prices**3]).T\n",
        "\n",
        "# Handle cases where there are no in-the-money paths\n",
        "if X.shape[0] > 0:\n",
        "    # Instantiate and fit the linear regression model\n",
        "    model = LinearRegression()\n",
        "    model.fit(X, discounted_future_option_values)\n",
        "\n",
        "    # Predict continuation values for ALL paths\n",
        "    X_all = np.vstack([stock_paths[:, t], stock_paths[:, t]**2, stock_paths[:, t]**3]).T\n",
        "    continuation_value = model.predict(X_all)\n",
        "else:\n",
        "    # If no in-the-money paths, continuation value is 0\n",
        "    continuation_value = np.zeros(n_paths)"
      ],
      "execution_count": 10,
      "outputs": []
    },
    {
      "cell_type": "markdown",
      "metadata": {
        "id": "a8496dce"
      },
      "source": [
        "## Determine option value\n",
        "\n",
        "### Subtask:\n",
        "For each in-the-money path, compare the immediate exercise value to the estimated continuation value and set the option value to the maximum of the two. For out-of-the-money paths, the option value is 0.\n"
      ]
    },
    {
      "cell_type": "markdown",
      "metadata": {
        "id": "75a9cbdf"
      },
      "source": [
        "**Reasoning**:\n",
        "Calculate the immediate exercise value and compare it with the estimated continuation value for in-the-money paths to update the option value.\n",
        "\n"
      ]
    },
    {
      "cell_type": "code",
      "metadata": {
        "id": "dc811884"
      },
      "source": [
        "# Calculate the immediate exercise value\n",
        "immediate_exercise_value = np.maximum(stock_paths[:, t] - strike_price, 0)\n",
        "\n",
        "# For in-the-money paths, compare and update the option price\n",
        "# Only update if immediate exercise is better than continuing AND it's an in-the-money path\n",
        "exercise_condition = immediate_exercise_value[in_the_money_indices] >= continuation_value[in_the_money_indices]\n",
        "american_option_price[in_the_money_indices[exercise_condition]] = immediate_exercise_value[in_the_money_indices[exercise_condition]]\n",
        "\n",
        "# For out-of-the-money paths, the option value is 0 if not exercised previously (which it isn't in this framework)\n",
        "# This is implicitly handled as the loop works backward, and values are carried over if not exercised.\n",
        "# No explicit action needed for out-of-the-money paths within this comparison step."
      ],
      "execution_count": 11,
      "outputs": []
    },
    {
      "cell_type": "markdown",
      "metadata": {
        "id": "d1f62315"
      },
      "source": [
        "## Final price calculation\n",
        "\n",
        "### Subtask:\n",
        "The final American call price is the average of the option values at time 0.\n"
      ]
    },
    {
      "cell_type": "markdown",
      "metadata": {
        "id": "101fbf3b"
      },
      "source": [
        "**Reasoning**:\n",
        "Calculate the average of the american_option_price array and store it in american_call_price_heston_lsm.\n",
        "\n"
      ]
    },
    {
      "cell_type": "code",
      "metadata": {
        "colab": {
          "base_uri": "https://localhost:8080/",
          "height": 0
        },
        "id": "efa19394",
        "outputId": "4f3965ca-ad2b-466a-8237-956a2ad251cb"
      },
      "source": [
        "american_call_price_heston_lsm = np.mean(american_option_price)\n",
        "print(f\"The American call option price using Heston model and LSM is: {american_call_price_heston_lsm:.4f}\")"
      ],
      "execution_count": 12,
      "outputs": [
        {
          "output_type": "stream",
          "name": "stdout",
          "text": [
            "The American call option price using Heston model and LSM is: 0.0278\n"
          ]
        }
      ]
    },
    {
      "cell_type": "markdown",
      "metadata": {
        "id": "83d7bab9"
      },
      "source": [
        "## Summary:\n",
        "\n",
        "### Data Analysis Key Findings\n",
        "\n",
        "*   Stock price and variance paths were simulated using the Heston model with parameters: kappa = 1.5, theta = 0.04, xi = 0.2, rho = -0.5, v0 = 0.04, S0 = 80, r = 5.5%, Time to maturity = 3 months, using 100000 paths and 100 time steps.\n",
        "*   The backward induction process was initialized by setting the option value at the last time step to the intrinsic value for each path.\n",
        "*   Within the backward induction loop, in-the-money paths were identified at each time step.\n",
        "*   For in-the-money paths, a linear regression with polynomial basis functions of degree 3 was performed to estimate the continuation value.\n",
        "*   At each step, for in-the-money paths, the option value was updated to the maximum of the immediate exercise value and the estimated continuation value.\n",
        "*   The final American call option price using the Heston model and LSM method was calculated to be 0.0278 by averaging the option values at time 0.\n",
        "\n",
        "### Insights or Next Steps\n",
        "\n",
        "*   The calculated price of 0.0278 seems low for an American call option with a strike price of 100 and initial stock price of 80, suggesting the option is deep out-of-the-money, and the probability of it becoming in-the-money before maturity is low under the simulated Heston dynamics.\n",
        "*   Further analysis could involve comparing this price to a European option price under the same Heston model to understand the value of the early exercise feature, or exploring the impact of different Heston parameters and simulation settings on the option price.\n"
      ]
    }
  ]
}