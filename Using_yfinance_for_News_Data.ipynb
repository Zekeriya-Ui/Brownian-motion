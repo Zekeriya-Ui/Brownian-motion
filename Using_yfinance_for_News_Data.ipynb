{
  "nbformat": 4,
  "nbformat_minor": 0,
  "metadata": {
    "colab": {
      "provenance": [],
      "authorship_tag": "ABX9TyNlvy0CJpt+elzTALK1b7Fg",
      "include_colab_link": true
    },
    "kernelspec": {
      "name": "python3",
      "display_name": "Python 3"
    },
    "language_info": {
      "name": "python"
    }
  },
  "cells": [
    {
      "cell_type": "markdown",
      "metadata": {
        "id": "view-in-github",
        "colab_type": "text"
      },
      "source": [
        "<a href=\"https://colab.research.google.com/github/Zekeriya-Ui/Brownian-motion/blob/main/Using_yfinance_for_News_Data.ipynb\" target=\"_parent\"><img src=\"https://colab.research.google.com/assets/colab-badge.svg\" alt=\"Open In Colab\"/></a>"
      ]
    },
    {
      "cell_type": "code",
      "execution_count": 3,
      "metadata": {
        "id": "JNIPcHL5bMUR"
      },
      "outputs": [],
      "source": [
        "import torch\n",
        "# Loading libraries\n",
        "\n",
        "import datetime\n",
        "import feedparser\n",
        "import matplotlib.pyplot as plt\n",
        "import numpy as np\n",
        "import pandas as pd\n",
        "import requests\n",
        "import yfinance as yf\n",
        "\n",
        "from datetime import datetime, timedelta\n",
        "from scipy.special import softmax\n",
        "from sklearn.feature_extraction.text import TfidfVectorizer\n",
        "from sklearn.decomposition import NMF\n",
        "from sklearn.preprocessing import MinMaxScaler\n",
        "from transformers import AutoTokenizer, AutoModelForSequenceClassification"
      ]
    },
    {
      "cell_type": "code",
      "source": [
        "# Create a Ticker object for Microsoft and access the news data\n",
        "msft = yf.Ticker(\"MSFT\")\n",
        "news_data = msft.news\n",
        "\n",
        "# Print the desired information for each article\n",
        "for article in news_data:\n",
        "    content = article.get('content')\n",
        "    if content:\n",
        "        # Assuming title, publisher, link are now within 'content'\n",
        "        print(\"Published Time:\", content.get('pubDate'))\n",
        "        print(\"Title:\", content.get('title'))\n",
        "        print(\"Publisher:\", content.get('provider').get('displayName'))\n",
        "        print(\"Link:\", content.get('canonicalUrl').get('url'))\n",
        "        print(\"Content Type:\", content.get('contentType'))\n",
        "        print(\"-\" * 30)"
      ],
      "metadata": {
        "colab": {
          "base_uri": "https://localhost:8080/",
          "height": 0
        },
        "id": "C69PgcwJbNfj",
        "outputId": "649a5d49-7560-4890-c31f-150b1081f256"
      },
      "execution_count": 4,
      "outputs": [
        {
          "output_type": "stream",
          "name": "stdout",
          "text": [
            "Published Time: 2025-09-02T16:34:55Z\n",
            "Title: CoreWeave stock sinks as insiders sell shares at 'very rapid pace'\n",
            "Publisher: Yahoo Finance\n",
            "Link: https://finance.yahoo.com/news/coreweave-stock-sinks-as-insiders-sell-shares-at-very-rapid-pace-163455020.html\n",
            "Content Type: STORY\n",
            "------------------------------\n",
            "Published Time: 2025-08-31T12:53:50Z\n",
            "Title: August jobs report due out as Fed uncertainty looms: What to watch this week\n",
            "Publisher: Yahoo Finance\n",
            "Link: https://finance.yahoo.com/news/august-jobs-report-due-out-as-fed-uncertainty-looms-what-to-watch-this-week-125350194.html\n",
            "Content Type: STORY\n",
            "------------------------------\n",
            "Published Time: 2025-09-02T15:40:15Z\n",
            "Title: New Mexico to invest $315 million in quantum computing drive\n",
            "Publisher: Reuters\n",
            "Link: https://finance.yahoo.com/news/mexico-invest-315-million-quantum-154015731.html\n",
            "Content Type: STORY\n",
            "------------------------------\n",
            "Published Time: 2025-09-02T15:23:00Z\n",
            "Title: Amazon Eyes Cloud Expansion: Will the NZ AWS Region Drive Growth?\n",
            "Publisher: Zacks\n",
            "Link: https://finance.yahoo.com/news/amazon-eyes-cloud-expansion-nz-152300203.html\n",
            "Content Type: STORY\n",
            "------------------------------\n",
            "Published Time: 2025-09-02T15:13:26Z\n",
            "Title: Microsoft Corp (MSFT) Cracks Whip amid Protests on Azure Use by Israel Military\n",
            "Publisher: Insider Monkey\n",
            "Link: https://finance.yahoo.com/news/microsoft-corp-msft-cracks-whip-151326929.html\n",
            "Content Type: STORY\n",
            "------------------------------\n",
            "Published Time: 2025-09-02T14:53:37Z\n",
            "Title: We Asked ChatGPT To Pick Between Apple and Microsoft Stock: Here’s What It Chose\n",
            "Publisher: GOBankingRates\n",
            "Link: https://finance.yahoo.com/news/asked-chatgpt-pick-between-apple-145337568.html\n",
            "Content Type: STORY\n",
            "------------------------------\n",
            "Published Time: 2025-09-02T14:53:24Z\n",
            "Title: Salesforce CEO Marc Benioff says his company has cut 4,000 customer service jobs as AI steps in: ‘I need less heads’\n",
            "Publisher: Fortune\n",
            "Link: https://finance.yahoo.com/news/salesforce-ceo-marc-benioff-says-145324020.html\n",
            "Content Type: STORY\n",
            "------------------------------\n",
            "Published Time: 2025-09-02T14:24:15Z\n",
            "Title: Microsoft joins Google in a federal cloud price war\n",
            "Publisher: Quartz\n",
            "Link: https://qz.com/microsoft-cloud-deal-us-government-google\n",
            "Content Type: STORY\n",
            "------------------------------\n",
            "Published Time: 2025-09-02T14:20:27Z\n",
            "Title: Microsoft to discount cloud services for US government\n",
            "Publisher: Reuters\n",
            "Link: https://finance.yahoo.com/news/microsoft-discount-cloud-services-us-142027636.html\n",
            "Content Type: STORY\n",
            "------------------------------\n",
            "Published Time: 2025-09-02T14:14:00Z\n",
            "Title: C3.ai Before Q1 Earnings Release: Buy, Sell or Hold the Stock?\n",
            "Publisher: Zacks\n",
            "Link: https://finance.yahoo.com/news/c3-ai-q1-earnings-release-141400077.html\n",
            "Content Type: STORY\n",
            "------------------------------\n"
          ]
        }
      ]
    },
    {
      "cell_type": "code",
      "metadata": {
        "colab": {
          "base_uri": "https://localhost:8080/",
          "height": 0
        },
        "id": "df8b477c",
        "outputId": "ae367a37-3943-4f6c-fb99-6427f8525b04"
      },
      "source": [
        "%pip install feedparser"
      ],
      "execution_count": 5,
      "outputs": [
        {
          "output_type": "stream",
          "name": "stdout",
          "text": [
            "Requirement already satisfied: feedparser in /usr/local/lib/python3.12/dist-packages (6.0.11)\n",
            "Requirement already satisfied: sgmllib3k in /usr/local/lib/python3.12/dist-packages (from feedparser) (1.0.0)\n"
          ]
        }
      ]
    }
  ]
}